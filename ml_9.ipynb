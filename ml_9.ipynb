{
  "cells": [
    {
      "cell_type": "code",
      "execution_count": null,
      "metadata": {
        "id": "JM8IRHxkfAKn"
      },
      "outputs": [],
      "source": [
        "#Question 1 part -A"
      ]
    },
    {
      "cell_type": "code",
      "execution_count": null,
      "metadata": {
        "colab": {
          "base_uri": "https://localhost:8080/"
        },
        "id": "THi8qEMzRBdB",
        "outputId": "89719e25-a022-4d6a-936f-21cab3aa7be5"
      },
      "outputs": [
        {
          "name": "stdout",
          "output_type": "stream",
          "text": [
            "1 1 1 1 1 1 1 1 1 1 1 1 1 1 1\n",
            "1 1 1 1 1 1 1 1 1 1 1 1 1 1 1\n",
            "1 1 1 1 1 1 1 1 1 1 1 1 1 1 1\n",
            "1 1 1 1 1 1 1 1 1 1 1 1 1 1 1\n",
            "1 1 1 1 1 1 1 1 1 1 1 2 2 2 2\n",
            "2 2 2 2 2 2 2 2 2 2 2 2 2 2 2\n",
            "2 2 2 2 2 2 2 2 2 2 2 2 2 2 2\n",
            "2 2 2 2 2 2 2 2 2 2 2 2 2 2 2\n",
            "1 1 1 1 1 1 1 1 1 1 1 1 1 1 1\n",
            "1 1 1 1 1 1 1 1 1 1 1 1 1 1 1\n",
            "2 2 2 2 2 2 2 2 2 2 2 2 2 2 2\n",
            "2 2 2 2 2 2 2 2 2 2 2 2 2 2 2\n",
            "2 2 2 2 2 2 2 2 2 2 2 2 2 2 2\n",
            "2 2 2 2 2 2 2 2 2 2 2 2 2 2 2\n",
            "1 1 1 1 1 1 1 1 1 1 1 1 1 1 1\n",
            "1 1 1 1 1 1 1 1 1 2 2 2 2 2 2\n",
            "2 2 2 2 2 2 2 2 2 2 2 2 2 2 2\n",
            "2 2 2 2 2 2 2 2 2 2 2 2 2 2 2\n",
            "2 2 2 2 2 2 2 2 2 2 1 1 1 1 1\n",
            "1 1 1 1 1 1 1 1 1 1 1 1 1 1 1\n"
          ]
        }
      ],
      "source": [
        "import numpy as np\n",
        "import pandas as pd\n",
        "\n",
        "dice_rolls = pd.read_csv('/content/hmm_pb1.csv', header=None)\n",
        "\n",
        "stat = [1, 2]\n",
        "init_prob = np.array([0.5, 0.5])\n",
        "trans_pb = np.array([\n",
        "    [0.95, 0.05],\n",
        "    [0.05, 0.95],\n",
        "])\n",
        "ems_pb = np.array([\n",
        "    [1/6]*5 + [1/6],\n",
        "    [1/10]*5 + [1/2],\n",
        "])\n",
        "observations = dice_rolls.iloc[0].values - 1\n",
        "\n",
        "n_stat = len(stat)\n",
        "n_observations = len(observations)\n",
        "V = np.zeros((n_stat, n_observations))\n",
        "backpointer = np.zeros((n_stat, n_observations), dtype=int)\n",
        "\n",
        "for a in range(n_stat):\n",
        "    V[a, 0] = np.log(init_prob[a]) + np.log(ems_pb[a, observations[0]])\n",
        "\n",
        "\n",
        "for t in range(1, n_observations):\n",
        "    for a in range(n_stat):\n",
        "        transition_pb = V[:, t-1] + np.log(trans_pb[:, a])\n",
        "        V[a, t] = np.max(transition_pb) + np.log(ems_pb[a, observations[t]])\n",
        "        backpointer[a, t] = np.argmax(transition_pb)\n",
        "\n",
        "b_path = [np.argmax(V[:, n_observations - 1])]\n",
        "for t in range(n_observations - 1, 0, -1):\n",
        "    b_path.insert(0, backpointer[b_path[0], t])\n",
        "\n",
        "b_path_states = [stat[state] for state in b_path]\n",
        "sequence_y = ''.join(map(str, b_path_states))\n",
        "for i in range(0, len(sequence_y), 15):\n",
        "    print(' '.join(sequence_y[i:i+15]))\n"
      ]
    },
    {
      "cell_type": "code",
      "execution_count": null,
      "metadata": {
        "id": "hLetcK_NfGBD"
      },
      "outputs": [],
      "source": [
        "#Question 1 part-b"
      ]
    },
    {
      "cell_type": "code",
      "execution_count": null,
      "metadata": {
        "colab": {
          "base_uri": "https://localhost:8080/"
        },
        "id": "34tT3hEac0mk",
        "outputId": "4bbf831e-981e-49ff-a765-1557412fb81f"
      },
      "outputs": [
        {
          "name": "stdout",
          "output_type": "stream",
          "text": [
            "α1_138/α2_138: 9.795724733488365\n",
            "β1_138/β2_138: 5.761919016897878\n"
          ]
        }
      ],
      "source": [
        "observations = dice_rolls.values.squeeze() - 1\n",
        "\n",
        "def forward(observations, stat, init_prob, trans_pb, ems_pb):\n",
        "    alpha = np.zeros((len(observations), len(stat)))\n",
        "    c = np.zeros(len(observations))\n",
        "    alpha[0, :] = init_prob * ems_pb[:, observations[0]]\n",
        "    c[0] = 1.0 / np.sum(alpha[0, :])\n",
        "    alpha[0, :] *= c[0]\n",
        "\n",
        "    for t in range(1, len(observations)):\n",
        "        for j in range(len(stat)):\n",
        "            alpha[t, j] = alpha[t-1].dot(trans_pb[:, j]) * ems_pb[j, observations[t]]\n",
        "        c[t] = 1.0 / np.sum(alpha[t, :])\n",
        "        alpha[t, :] *= c[t]\n",
        "\n",
        "    return alpha, c\n",
        "\n",
        "def backward(observations, stat, trans_pb, ems_pb, c):\n",
        "    beta = np.zeros((len(observations), len(stat)))\n",
        "\n",
        "    beta[-1, :] = c[-1]\n",
        "\n",
        "    for t in reversed(range(len(observations) - 1)):\n",
        "        for i in range(len(stat)):\n",
        "            beta[t, i] = (trans_pb[i, :] * ems_pb[:, observations[t + 1]] * beta[t + 1, :]).sum()\n",
        "        beta[t, :] *= c[t]\n",
        "\n",
        "    return beta\n",
        "alpha, c = forward(observations, stat, init_prob, trans_pb, ems_pb)\n",
        "beta = backward(observations, stat, trans_pb, ems_pb, c)\n",
        "\n",
        "alpha_ratio = alpha[137, 0] / alpha[137, 1]\n",
        "beta_ratio = beta[137, 0] / beta[137, 1]\n",
        "\n",
        "print(f'α1_138/α2_138: {alpha_ratio}')\n",
        "print(f'β1_138/β2_138: {beta_ratio}')\n"
      ]
    },
    {
      "cell_type": "code",
      "execution_count": null,
      "metadata": {
        "id": "mI39zql5gqoR"
      },
      "outputs": [],
      "source": [
        "#Question 2"
      ]
    },
    {
      "cell_type": "code",
      "execution_count": null,
      "metadata": {
        "colab": {
          "base_uri": "https://localhost:8080/"
        },
        "id": "syz8F1Qa8EFH",
        "outputId": "e76d93aa-7889-4c7d-84d1-12de2457f245"
      },
      "outputs": [
        {
          "name": "stdout",
          "output_type": "stream",
          "text": [
            "Inti_Prob [0.03418643 0.96581357]\n",
            "trans_prob [[0.203846   0.79726234]\n",
            " [0.79949517 0.20167715]]\n",
            "em_pb [[0.1629864  0.17944403 0.19166148 0.16054405 0.12148477 0.18387927]\n",
            " [0.18073768 0.15532325 0.14847995 0.23335472 0.13182926 0.15027514]]\n"
          ]
        }
      ],
      "source": [
        "def forward(observations, stat, start_pb, trans_prob, em_pb):\n",
        "    alpha = np.zeros((len(observations), stat))\n",
        "    c = np.zeros(len(observations))\n",
        "    alpha[0, :] = start_pb * em_pb[:, observations[0]]\n",
        "    c[0] = 1.0 / np.sum(alpha[0, :])\n",
        "    alpha[0, :] *= c[0]\n",
        "\n",
        "    for t in range(1, len(observations)):\n",
        "        for j in range(stat):\n",
        "            alpha[t, j] = alpha[t-1].dot(trans_prob[:, j]) * em_pb[j, observations[t]]\n",
        "        c[t] = 1.0 / np.sum(alpha[t, :])\n",
        "        alpha[t, :] *= c[t]\n",
        "\n",
        "    return alpha, c\n",
        "\n",
        "def backward(observations, stat, trans_prob, em_pb, c):\n",
        "    beta = np.zeros((len(observations), stat))\n",
        "\n",
        "    beta[-1, :] = c[-1]\n",
        "\n",
        "    for t in reversed(range(len(observations) - 1)):\n",
        "        for i in range(stat):\n",
        "            beta[t, i] = (trans_prob[i, :] * em_pb[:, observations[t + 1]] * beta[t + 1, :]).sum()\n",
        "        beta[t, :] *= c[t]\n",
        "\n",
        "    return beta\n",
        "\n",
        "def baum_welch(observations, n_stat, n_iter=100):\n",
        "    n_symbols = np.max(observations) + 1\n",
        "    n_observations = len(observations)\n",
        "\n",
        "    start_pb = np.random.rand(n_stat)\n",
        "    start_pb /= start_pb.sum()\n",
        "    trans_prob = np.random.rand(n_stat, n_stat)\n",
        "    trans_prob /= trans_prob.sum(axis=1, keepdims=True)\n",
        "    em_pb = np.random.rand(n_stat, n_symbols)\n",
        "    em_pb /= em_pb.sum(axis=1, keepdims=True)\n",
        "    k=range(n_stat)\n",
        "    for i in range(n_iter):\n",
        "        alpha, c = forward(observations, len(k), start_pb, trans_prob, em_pb)\n",
        "        beta = backward(observations, len(k), trans_prob, em_pb, c)\n",
        "\n",
        "        gamma = alpha * beta\n",
        "        gamma /= gamma.sum(axis=1, keepdims=True)\n",
        "\n",
        "        xi = np.zeros((n_observations - 1, n_stat, n_stat))\n",
        "        for t in range(n_observations - 1):\n",
        "            denom = np.sum(alpha[t, :] * trans_prob * em_pb[:, observations[t + 1]].T * beta[t + 1, :])\n",
        "            for i in range(n_stat):\n",
        "                for j in range(n_stat):\n",
        "                    xi[t, i, j] = alpha[t, i] * trans_prob[i, j] * em_pb[j, observations[t + 1]] * beta[t + 1, j] / denom\n",
        "\n",
        "        start_prob = gamma[0, :]\n",
        "        trans_prob = np.sum(xi, axis=0) / np.sum(gamma[:-1, :], axis=0).reshape(-1, 1)\n",
        "        em_pb.fill(0)\n",
        "        for t in range(n_observations):\n",
        "            em_pb[:, observations[t]] += gamma[t, :]\n",
        "        em_pb /= gamma.sum(axis=0).reshape(-1, 1)\n",
        "\n",
        "    return start_pb, trans_prob, em_pb\n",
        "\n",
        "observations = pd.read_csv('/content/hmm_pb2.csv', header=None).values.squeeze() - 1\n",
        "\n",
        "n_stat = 2\n",
        "int_prob, trans_prob, em_pb = baum_welch(observations, n_stat, n_iter=100)\n",
        "\n",
        "print(\"Inti_Prob\", int_prob)\n",
        "print(\"trans_prob\", trans_prob)\n",
        "print(\"em_pb\", em_pb)\n"
      ]
    }
  ],
  "metadata": {
    "colab": {
      "provenance": []
    },
    "kernelspec": {
      "display_name": "Python 3",
      "name": "python3"
    },
    "language_info": {
      "name": "python"
    }
  },
  "nbformat": 4,
  "nbformat_minor": 0
}
